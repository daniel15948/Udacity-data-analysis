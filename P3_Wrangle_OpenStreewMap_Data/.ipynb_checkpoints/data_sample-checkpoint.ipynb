{
 "cells": [
  {
   "cell_type": "code",
   "execution_count": 1,
   "metadata": {
    "collapsed": true
   },
   "outputs": [],
   "source": [
    "import xml.etree.cElementTree as ET\n",
    "from collections import defaultdict\n",
    "import re\n",
    "import csv\n",
    "import codecs\n",
    "import cerberus\n",
    "from schema import Schema\n",
    "import pprint"
   ]
  },
  {
   "cell_type": "markdown",
   "metadata": {},
   "source": [
    "## 1. The numbers of tags"
   ]
  },
  {
   "cell_type": "code",
   "execution_count": 2,
   "metadata": {
    "collapsed": true
   },
   "outputs": [],
   "source": [
    "def count_tags(filename):\n",
    "    tags={}\n",
    "    for event, element in ET.iterparse(filename, events=(\"start\",)):\n",
    "        if element.tag in tags:\n",
    "            tags[element.tag] += 1\n",
    "        else:\n",
    "            tags[element.tag] = 1        \n",
    "    return tags"
   ]
  },
  {
   "cell_type": "code",
   "execution_count": 3,
   "metadata": {},
   "outputs": [
    {
     "name": "stdout",
     "output_type": "stream",
     "text": [
      "{'node': 31496, 'nd': 36765, 'member': 953, 'tag': 8809, 'relation': 33, 'way': 3426, 'osm': 1}\n"
     ]
    }
   ],
   "source": [
    "print count_tags(\"sample.osm\")"
   ]
  },
  {
   "cell_type": "markdown",
   "metadata": {},
   "source": [
    "## 2. key"
   ]
  },
  {
   "cell_type": "code",
   "execution_count": 4,
   "metadata": {
    "collapsed": true
   },
   "outputs": [],
   "source": [
    "lower = re.compile(r'^([a-z]|_)*$')\n",
    "lower_colon = re.compile(r'^([a-z]|_)*:([a-z]|_)*$')\n",
    "problemchars = re.compile(r'[=\\+/&<>;\\'\"\\?%#$@\\,\\. \\t\\r\\n]')\n",
    "\n",
    "\n",
    "def key_type(element, keys):\n",
    "    if element.tag == \"tag\":\n",
    "        if lower.search(element.attrib['k']):\n",
    "            keys['lower']+=1\n",
    "        elif lower_colon.search(element.attrib['k']):\n",
    "            keys['lower_colon']+=1\n",
    "        elif problemchars.search(element.attrib['k']):\n",
    "            keys['problemchars']+=1\n",
    "        else:\n",
    "            keys['other']+=1\n",
    "        \n",
    "        \n",
    "    return keys\n",
    "\n",
    "\n",
    "\n",
    "def process_map(filename):\n",
    "    keys = {\"lower\": 0, \"lower_colon\": 0, \"problemchars\": 0, \"other\": 0}\n",
    "    for _, element in ET.iterparse(filename):\n",
    "        keys = key_type(element, keys)\n",
    "\n",
    "    return keys"
   ]
  },
  {
   "cell_type": "code",
   "execution_count": 5,
   "metadata": {},
   "outputs": [
    {
     "data": {
      "text/plain": [
       "{'lower': 8514, 'lower_colon': 285, 'other': 10, 'problemchars': 0}"
      ]
     },
     "execution_count": 5,
     "metadata": {},
     "output_type": "execute_result"
    }
   ],
   "source": [
    "process_map('sample.osm')"
   ]
  },
  {
   "cell_type": "markdown",
   "metadata": {},
   "source": [
    "## 3. Numbers of only users"
   ]
  },
  {
   "cell_type": "code",
   "execution_count": 6,
   "metadata": {
    "collapsed": true
   },
   "outputs": [],
   "source": [
    "def get_user(element):\n",
    "    return element.get('uid')\n",
    "\n",
    "\n",
    "def process_map(filename):\n",
    "    users = set()\n",
    "    for _, element in ET.iterparse(filename):\n",
    "        u= get_user(element)\n",
    "        if u != None:\n",
    "            users.add(u)\n",
    "    return users"
   ]
  },
  {
   "cell_type": "code",
   "execution_count": 7,
   "metadata": {},
   "outputs": [
    {
     "data": {
      "text/plain": [
       "345"
      ]
     },
     "execution_count": 7,
     "metadata": {},
     "output_type": "execute_result"
    }
   ],
   "source": [
    "users = process_map('sample.osm')\n",
    "len(users)"
   ]
  },
  {
   "cell_type": "markdown",
   "metadata": {},
   "source": [
    "## clean data of street"
   ]
  },
  {
   "cell_type": "code",
   "execution_count": 8,
   "metadata": {
    "collapsed": true
   },
   "outputs": [],
   "source": [
    "street_type_re = re.compile(r'\\b\\S+\\.?$', re.IGNORECASE)\n",
    "\n",
    "\n",
    "expected = [\"Street\", \"Avenue\", \"Boulevard\", \"Drive\", \"Court\", \"Place\", \"Square\", \"Lane\", \"Road\", \n",
    "            \"Trail\", \"Parkway\", \"Commons\"]\n",
    "\n",
    "# UPDATE THIS VARIABLE\n",
    "mapping = { \"St\": \"Street\",\n",
    "            \"St.\": \"Street\",\n",
    "            \"Ave\": \"Avenue\",\n",
    "            \"Ave.\": \"Avenue\",\n",
    "            \"Rd.\": \"Road\",\n",
    "            \"Rd\": \"Road\"\n",
    "            }\n",
    "\n",
    "\n",
    "def audit_street_type(street_types, street_name):\n",
    "    m = street_type_re.search(street_name)\n",
    "    if m:\n",
    "        street_type = m.group()\n",
    "        if street_type not in expected:\n",
    "            street_types[street_type].add(street_name)\n",
    "\n",
    "\n",
    "def is_street_name(elem):\n",
    "    return (elem.attrib['k'] == \"addr:street\")\n",
    "\n",
    "\n",
    "def audit_street(osmfile):\n",
    "    osm_file = open(osmfile, \"r\")\n",
    "    street_types = defaultdict(set)\n",
    "    for event, elem in ET.iterparse(osm_file, events=(\"start\",)):\n",
    "        if elem.tag == \"node\" or elem.tag == \"way\":\n",
    "            for tag in elem.iter(\"tag\"):\n",
    "                if is_street_name(tag):\n",
    "                    audit_street_type(street_types, tag.attrib['v'])\n",
    "    osm_file.close()\n",
    "    return street_types\n"
   ]
  },
  {
   "cell_type": "code",
   "execution_count": 9,
   "metadata": {},
   "outputs": [
    {
     "name": "stdout",
     "output_type": "stream",
     "text": [
      "defaultdict(<type 'set'>, {u'87hao': set([u'\\u8f66\\u7ad9\\u675187hao'])})\n"
     ]
    }
   ],
   "source": [
    "st_types = audit_street('sample.osm')\n",
    "pprint.pprint(st_types)"
   ]
  },
  {
   "cell_type": "code",
   "execution_count": 10,
   "metadata": {
    "collapsed": true
   },
   "outputs": [],
   "source": [
    "def update_street_name(name, mapping):\n",
    "    for ma in mapping.keys():\n",
    "        if name.endswith(ma):\n",
    "            name=name.replace(ma,mapping[ma])\n",
    "    return name"
   ]
  },
  {
   "cell_type": "code",
   "execution_count": 11,
   "metadata": {},
   "outputs": [
    {
     "name": "stdout",
     "output_type": "stream",
     "text": [
      "车站村87hao => 车站村87hao\n"
     ]
    }
   ],
   "source": [
    "for st_type, ways in st_types.iteritems():\n",
    "    for name in ways:\n",
    "        better_name = update_street_name(name, mapping)\n",
    "        print name, \"=>\", better_name"
   ]
  },
  {
   "cell_type": "markdown",
   "metadata": {},
   "source": [
    "## clean postcode"
   ]
  },
  {
   "cell_type": "code",
   "execution_count": 12,
   "metadata": {
    "collapsed": true
   },
   "outputs": [],
   "source": [
    "postcode_type_re = re.compile(r'^\\d{6}$')\n",
    "\n",
    "def audit_postcode_type(postcode_types, postcode):\n",
    "    m = postcode_type_re.match(postcode)\n",
    "    if not m:\n",
    "        postcode_types['invalid'].add(postcode)\n",
    "\n",
    "\n",
    "def is_postcode(elem):\n",
    "    return (elem.attrib['k'] == \"addr:postcode\")\n",
    "\n",
    "\n",
    "def audit_postcode(osmfile):\n",
    "    osm_file = open(osmfile, \"r\")\n",
    "    postcode_types = defaultdict(set)\n",
    "    for event, elem in ET.iterparse(osm_file, events=(\"start\",)):\n",
    "\n",
    "        if elem.tag == \"node\" or elem.tag == \"way\":\n",
    "            for tag in elem.iter(\"tag\"):\n",
    "                if is_postcode(tag):\n",
    "                    audit_postcode_type(postcode_types, tag.attrib['v'])\n",
    "    osm_file.close()\n",
    "    return postcode_types"
   ]
  },
  {
   "cell_type": "code",
   "execution_count": 13,
   "metadata": {},
   "outputs": [
    {
     "name": "stdout",
     "output_type": "stream",
     "text": [
      "defaultdict(<type 'set'>, {})\n"
     ]
    }
   ],
   "source": [
    "postcode_types = audit_postcode('sample.osm')\n",
    "pprint.pprint(postcode_types)"
   ]
  },
  {
   "cell_type": "code",
   "execution_count": 14,
   "metadata": {
    "collapsed": true
   },
   "outputs": [],
   "source": [
    "def update_postcode(postcode):\n",
    "    m = re.match(r'^\\d{6}$', postcode)\n",
    "    if not m:\n",
    "           return None\n",
    "    else:\n",
    "          return postcode"
   ]
  },
  {
   "cell_type": "code",
   "execution_count": 15,
   "metadata": {
    "collapsed": true
   },
   "outputs": [],
   "source": [
    "for postcode_type, codes in postcode_types.iteritems():\n",
    "    for code in codes:\n",
    "        better_code = update_postcode(code)\n",
    "        print code, \"=>\", better_code"
   ]
  },
  {
   "cell_type": "markdown",
   "metadata": {},
   "source": [
    "## clean shop"
   ]
  },
  {
   "cell_type": "code",
   "execution_count": 16,
   "metadata": {
    "collapsed": true
   },
   "outputs": [],
   "source": [
    "shop_type_re = re.compile(r'\\b\\S+\\.?$', re.IGNORECASE)\n",
    "expected = [\"bakery\", \"bicycle\", \"car\", \"florist\", \"department_store\", \"garden_centre\", \"hairdresser\", \"mobile_phone\", \\\n",
    "            \"seafood\", \"supermarket\", \"optician\", \"travel_agency\", \"copyshop\", \"computer\", \"jewelry\", \"gift\", \"beverages\", \\\n",
    "            \"wine\", \"photo\", \"convenience\", \"sports\", \"butcher\", \"mall\", \"books\", \"hardware\", \"bookmaker\", \"laundry\", \\\n",
    "            \"photo_studio\", \"greengrocer\", \"furniture\", \"clothes\"]\n",
    "\n",
    "mapping = { \"yes\": \"None\"}\n",
    "\n",
    "def audit_shop_type(shop_types, shop_name):\n",
    "    m = shop_type_re.search(shop_name)\n",
    "    if m:\n",
    "        shop_type = m.group()\n",
    "        if shop_type not in expected:\n",
    "            shop_types[shop_type].add(shop_name)\n",
    "\n",
    "\n",
    "def is_shop_name(elem):\n",
    "    return (elem.attrib['k'] == \"shop\")\n",
    "\n",
    "\n",
    "def audit_shop(osmfile):\n",
    "    osm_file = open(osmfile, \"r\")\n",
    "    shop_types = defaultdict(set)\n",
    "    for event, elem in ET.iterparse(osm_file, events=(\"start\",)):\n",
    "\n",
    "        if elem.tag == \"node\" or elem.tag == \"way\":\n",
    "            for tag in elem.iter(\"tag\"):\n",
    "                if is_shop_name(tag):\n",
    "                    audit_shop_type(shop_types, tag.attrib['v'])\n",
    "    osm_file.close()\n",
    "    return shop_types"
   ]
  },
  {
   "cell_type": "code",
   "execution_count": 17,
   "metadata": {},
   "outputs": [
    {
     "name": "stdout",
     "output_type": "stream",
     "text": [
      "defaultdict(<type 'set'>, {'yes': set(['yes'])})\n"
     ]
    }
   ],
   "source": [
    "shop_types = audit_shop('sample.osm')\n",
    "pprint.pprint(shop_types)"
   ]
  },
  {
   "cell_type": "code",
   "execution_count": 18,
   "metadata": {
    "collapsed": true
   },
   "outputs": [],
   "source": [
    "def update_shop(name, mapping):\n",
    "    for ma in mapping.keys():\n",
    "        if name==ma:\n",
    "            name=name.replace(ma,mapping[ma])\n",
    "    return name"
   ]
  },
  {
   "cell_type": "code",
   "execution_count": 19,
   "metadata": {},
   "outputs": [
    {
     "name": "stdout",
     "output_type": "stream",
     "text": [
      "yes => None\n"
     ]
    }
   ],
   "source": [
    "for shop_type, shops in shop_types.iteritems():\n",
    "    for shop in shops:\n",
    "        better_shop = update_shop(shop, mapping)\n",
    "        print shop, \"=>\", better_shop"
   ]
  }
 ],
 "metadata": {
  "kernelspec": {
   "display_name": "Python 3",
   "language": "python",
   "name": "python3"
  },
  "language_info": {
   "codemirror_mode": {
    "name": "ipython",
    "version": 3
   },
   "file_extension": ".py",
   "mimetype": "text/x-python",
   "name": "python",
   "nbconvert_exporter": "python",
   "pygments_lexer": "ipython3",
   "version": "3.6.3"
  }
 },
 "nbformat": 4,
 "nbformat_minor": 2
}

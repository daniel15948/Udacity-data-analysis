{
 "cells": [
  {
   "cell_type": "markdown",
   "metadata": {},
   "source": [
    "## OpenStreetMap Data Case Study"
   ]
  },
  {
   "cell_type": "markdown",
   "metadata": {},
   "source": [
    "## 1. Map Area"
   ]
  },
  {
   "cell_type": "markdown",
   "metadata": {},
   "source": [
    "### Wuhan,Hubei,China"
   ]
  },
  {
   "cell_type": "markdown",
   "metadata": {},
   "source": [
    "* https://www.openstreetmap.org/export#map=11/30.5962/114.2993"
   ]
  },
  {
   "cell_type": "markdown",
   "metadata": {},
   "source": [
    "* Used QGIS to download .OSM document."
   ]
  },
  {
   "cell_type": "markdown",
   "metadata": {},
   "source": [
    "#### This map is my hometown,I was born and studied in there.There are many delicious food restaurant in Wuhan,and I 'd like an opportunity to contribute to its improvement on OpenStreetMap for my hometown."
   ]
  },
  {
   "cell_type": "markdown",
   "metadata": {},
   "source": [
    "## 2. Problems encountered in the map"
   ]
  },
  {
   "cell_type": "markdown",
   "metadata": {},
   "source": [
    "#### After initially downloading a small sample size of the WUHAN area and running sample.osm.Two main problems as below:\n",
    "* Overabbreviated street names(\"Sanjiahu Rd\")\n",
    "* Including Chinese and spell name (\"车站村 chezhancun\")\n"
   ]
  },
  {
   "cell_type": "markdown",
   "metadata": {},
   "source": [
    "###  Corrected the street name"
   ]
  },
  {
   "cell_type": "markdown",
   "metadata": {},
   "source": [
    "### corrected the street name (\"Rd -> Roade\")"
   ]
  },
  {
   "cell_type": "code",
   "execution_count": null,
   "metadata": {
    "collapsed": true
   },
   "outputs": [],
   "source": [
    "def update_street_name(name, mapping):\n",
    "    for ma in mapping.keys():\n",
    "        if name.endswith(ma):\n",
    "            name=name.replace(ma,mapping[ma])\n",
    "    return name"
   ]
  },
  {
   "cell_type": "markdown",
   "metadata": {},
   "source": [
    "### explored the zipcode"
   ]
  },
  {
   "cell_type": "code",
   "execution_count": 1,
   "metadata": {},
   "outputs": [
    {
     "data": {
      "text/plain": [
       "[(u'430079', 49),\n",
       " (u'430074', 9),\n",
       " (u'430070', 8),\n",
       " (u'430056', 5),\n",
       " (u'430062', 5),\n",
       " (u'430000', 3),\n",
       " (u'430064', 3),\n",
       " (u'430100', 3),\n",
       " (u'430072', 2),\n",
       " (u'430101', 2),\n",
       " (u'', 1),\n",
       " (u'430022', 1),\n",
       " (u'430065', 1),\n",
       " (u'430071', 1),\n",
       " (u'430073', 1),\n",
       " (u'430080', 1)]"
      ]
     },
     "execution_count": 1,
     "metadata": {},
     "output_type": "execute_result"
    }
   ],
   "source": [
    "import sqlite3\n",
    "con = sqlite3.connect('map.db')\n",
    "cur = con.cursor()\n",
    "cur.execute(\"select tags.value, count(*) as num \\\n",
    "from (select * from nodes_tags union all select * from ways_tags) as tags \\\n",
    "where tags.key = 'postcode' \\\n",
    "group by tags.value \\\n",
    "order by num desc\")\n",
    "cur.fetchall()"
   ]
  },
  {
   "cell_type": "markdown",
   "metadata": {
    "collapsed": true
   },
   "source": [
    "#### The Zipcode looks good"
   ]
  },
  {
   "cell_type": "markdown",
   "metadata": {},
   "source": [
    "## 3. Data overview and addional ideas"
   ]
  },
  {
   "cell_type": "markdown",
   "metadata": {},
   "source": [
    "### File sizes"
   ]
  },
  {
   "cell_type": "markdown",
   "metadata": {
    "collapsed": true
   },
   "source": [
    "* wuhan_china.osm ......... 62.3 MB \n",
    "* map.db .................. 33.6 MB\n",
    "* nodes.csv ............... 24.8 MB\n",
    "* nodes_tags.csv .......... 0.48 MB\n",
    "* ways.csv ................ 1.96 MB\n",
    "* ways_tags.csv ........... 2.4 MB\n",
    "* ways_nodes.cv ........... 9 MB "
   ]
  },
  {
   "cell_type": "markdown",
   "metadata": {},
   "source": [
    "### Number of nodes"
   ]
  },
  {
   "cell_type": "code",
   "execution_count": 3,
   "metadata": {},
   "outputs": [
    {
     "data": {
      "text/plain": [
       "[(314952,)]"
      ]
     },
     "execution_count": 3,
     "metadata": {},
     "output_type": "execute_result"
    }
   ],
   "source": [
    "cur.execute('select count(*) from nodes')\n",
    "cur.fetchall()"
   ]
  },
  {
   "cell_type": "markdown",
   "metadata": {},
   "source": [
    "### Number of ways"
   ]
  },
  {
   "cell_type": "code",
   "execution_count": 5,
   "metadata": {},
   "outputs": [
    {
     "data": {
      "text/plain": [
       "[(34267,)]"
      ]
     },
     "execution_count": 5,
     "metadata": {},
     "output_type": "execute_result"
    }
   ],
   "source": [
    "cur.execute('select count(*) from ways')\n",
    "cur.fetchall()"
   ]
  },
  {
   "cell_type": "markdown",
   "metadata": {},
   "source": [
    "### Number of unique users"
   ]
  },
  {
   "cell_type": "code",
   "execution_count": 13,
   "metadata": {},
   "outputs": [
    {
     "data": {
      "text/plain": [
       "[(515,)]"
      ]
     },
     "execution_count": 13,
     "metadata": {},
     "output_type": "execute_result"
    }
   ],
   "source": [
    "cur.execute('select count(distinct(e.uid)) from (select uid from ways union all select uid from nodes) as e')\n",
    "cur.fetchall()"
   ]
  },
  {
   "cell_type": "markdown",
   "metadata": {},
   "source": [
    "### Top 10 contributing users"
   ]
  },
  {
   "cell_type": "code",
   "execution_count": 4,
   "metadata": {},
   "outputs": [
    {
     "data": {
      "text/plain": [
       "[(u'GeoSUN', 112201),\n",
       " (u'Soub', 48069),\n",
       " (u'jamesks', 24414),\n",
       " (u'Gao xioix', 17901),\n",
       " (u'katpatuka', 17298),\n",
       " (u'dword1511', 13558),\n",
       " (u'samsung galaxy s6', 10603),\n",
       " (u'flierfy', 5715),\n",
       " (u'hanchao', 5289),\n",
       " (u'keepcalmandmapon', 5122)]"
      ]
     },
     "execution_count": 4,
     "metadata": {},
     "output_type": "execute_result"
    }
   ],
   "source": [
    "cur.execute('select e.user, count(*) as num \\\n",
    "from (select user from ways union all select user from nodes) as e \\\n",
    "group by e.user \\\n",
    "order by num desc \\\n",
    "limit 10')\n",
    "cur.fetchall()"
   ]
  },
  {
   "cell_type": "markdown",
   "metadata": {},
   "source": [
    "### Number of users appearing only once(having 1 post)"
   ]
  },
  {
   "cell_type": "code",
   "execution_count": 4,
   "metadata": {},
   "outputs": [
    {
     "data": {
      "text/plain": [
       "[(92,)]"
      ]
     },
     "execution_count": 4,
     "metadata": {},
     "output_type": "execute_result"
    }
   ],
   "source": [
    "cur.execute('select count(*) \\\n",
    "from (select e.user, count(*) as num \\\n",
    "from (select user from nodes union all select user from ways) as e \\\n",
    "group by e.user \\\n",
    "having num = 1) as u')\n",
    "cur.fetchall()"
   ]
  },
  {
   "cell_type": "markdown",
   "metadata": {},
   "source": [
    "# 3. Additional ideas"
   ]
  },
  {
   "cell_type": "code",
   "execution_count": 6,
   "metadata": {},
   "outputs": [
    {
     "data": {
      "text/plain": [
       "[(349219,)]"
      ]
     },
     "execution_count": 6,
     "metadata": {},
     "output_type": "execute_result"
    }
   ],
   "source": [
    "cur.execute('select count(*) as num \\\n",
    "from (select user from nodes union all select user from ways) as e')\n",
    "cur.fetchall()"
   ]
  },
  {
   "cell_type": "markdown",
   "metadata": {
    "collapsed": true
   },
   "source": [
    "#### Here are some user percentage statistics: \n",
    "* Top user contribution percentage(\"GeoSUN\")32.13%\n",
    "* Combined top users'contribution(\"GeoSUN\" and \"Soub\")45.89%\n",
    "* Combined Top 10 users contribution 74.5%"
   ]
  },
  {
   "cell_type": "markdown",
   "metadata": {},
   "source": [
    "# 4. Additional Data Exploration"
   ]
  },
  {
   "cell_type": "markdown",
   "metadata": {},
   "source": [
    "## Numbers of store"
   ]
  },
  {
   "cell_type": "code",
   "execution_count": 5,
   "metadata": {},
   "outputs": [
    {
     "data": {
      "text/plain": [
       "[(u'supermarket', 83),\n",
       " (u'convenience', 26),\n",
       " (u'mall', 18),\n",
       " (u'books', 17),\n",
       " (u'bakery', 10),\n",
       " (u'garden_centre', 9),\n",
       " (u'yes', 9),\n",
       " (u'car', 7),\n",
       " (u'bicycle', 6),\n",
       " (u'clothes', 6),\n",
       " (u'department_store', 5),\n",
       " (u'copyshop', 4),\n",
       " (u'wine', 4),\n",
       " (u'computer', 3),\n",
       " (u'florist', 3),\n",
       " (u'optician', 3),\n",
       " (u'greengrocer', 2),\n",
       " (u'hairdresser', 2),\n",
       " (u'laundry', 2),\n",
       " (u'mobile_phone', 2),\n",
       " (u'seafood', 2),\n",
       " (u'beverages', 1),\n",
       " (u'bookmaker', 1),\n",
       " (u'butcher', 1),\n",
       " (u'furniture', 1),\n",
       " (u'gift', 1),\n",
       " (u'hardware', 1),\n",
       " (u'jewelry', 1),\n",
       " (u'photo', 1),\n",
       " (u'photo_studio', 1),\n",
       " (u'sports', 1),\n",
       " (u'travel_agency', 1)]"
      ]
     },
     "execution_count": 5,
     "metadata": {},
     "output_type": "execute_result"
    }
   ],
   "source": [
    "cur.execute(\"select e.value, count(*) as num \\\n",
    "from (select * from nodes_tags union all select * from ways_tags) as e \\\n",
    "where e.key = 'shop' \\\n",
    "group by e.value \\\n",
    "order by num desc\")\n",
    "cur.fetchall()"
   ]
  },
  {
   "cell_type": "markdown",
   "metadata": {
    "collapsed": true
   },
   "source": [
    "## Numbers of leisure space"
   ]
  },
  {
   "cell_type": "code",
   "execution_count": 11,
   "metadata": {},
   "outputs": [
    {
     "data": {
      "text/plain": [
       "[(u'pitch', 281),\n",
       " (u'park', 232),\n",
       " (u'track', 77),\n",
       " (u'common', 26),\n",
       " (u'sports_centre', 24),\n",
       " (u'playground', 19),\n",
       " (u'stadium', 15),\n",
       " (u'recreation_ground', 12),\n",
       " (u'swimming_pool', 7),\n",
       " (u'garden', 4),\n",
       " (u'golf_course', 4),\n",
       " (u'sauna', 1),\n",
       " (u'water_park', 1),\n",
       " (u'yes', 1)]"
      ]
     },
     "execution_count": 11,
     "metadata": {},
     "output_type": "execute_result"
    }
   ],
   "source": [
    "cur.execute(\"select e.value, count(*) as num \\\n",
    "from (select * from nodes_tags union all select * from ways_tags) as e \\\n",
    "where e.key = 'leisure' \\\n",
    "group by e.value \\\n",
    "order by num desc\")\n",
    "cur.fetchall()"
   ]
  },
  {
   "cell_type": "markdown",
   "metadata": {},
   "source": [
    "## The most popoular food"
   ]
  },
  {
   "cell_type": "code",
   "execution_count": 7,
   "metadata": {},
   "outputs": [
    {
     "data": {
      "text/plain": [
       "[(u'chinese', 14),\n",
       " (u'asian', 2),\n",
       " (u'barbecue;chinese', 1),\n",
       " (u'burger', 1),\n",
       " (u'chinese;american', 1),\n",
       " (u'chinese;oriental', 1)]"
      ]
     },
     "execution_count": 7,
     "metadata": {},
     "output_type": "execute_result"
    }
   ],
   "source": [
    "cur.execute(\"SELECT nodes_tags.value, COUNT(*) as num \\\n",
    "FROM nodes_tags \\\n",
    "JOIN (SELECT DISTINCT(id) FROM nodes_tags WHERE value='restaurant') i \\\n",
    "ON nodes_tags.id=i.id \\\n",
    "WHERE nodes_tags.key='cuisine' \\\n",
    "GROUP BY nodes_tags.value \\\n",
    "ORDER BY num DESC\")\n",
    "cur.fetchall()"
   ]
  },
  {
   "cell_type": "markdown",
   "metadata": {},
   "source": [
    "# Conclusion"
   ]
  },
  {
   "cell_type": "markdown",
   "metadata": {
    "collapsed": true
   },
   "source": [
    "#### After this review of Wuhan map data it was shows that area isn't complete,even I though I have been cleaned the map data of this project.It was interest me to notice many kind of food,leisure space and store which correspond with Wuhan people life style and customs.\n",
    "#### Because of the city of Wuhan is China city, the city of street is combine with Chinese and Chinese spell name that will error for same pronounce but actually different street.So improvement and accurate translation the name of street will help us to better understanding the map data."
   ]
  }
 ],
 "metadata": {
  "kernelspec": {
   "display_name": "Python 3",
   "language": "python",
   "name": "python3"
  },
  "language_info": {
   "codemirror_mode": {
    "name": "ipython",
    "version": 3
   },
   "file_extension": ".py",
   "mimetype": "text/x-python",
   "name": "python",
   "nbconvert_exporter": "python",
   "pygments_lexer": "ipython3",
   "version": "3.6.3"
  }
 },
 "nbformat": 4,
 "nbformat_minor": 2
}
